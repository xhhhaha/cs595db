{
 "cells": [
  {
   "cell_type": "code",
   "execution_count": 147,
   "metadata": {},
   "outputs": [],
   "source": [
    "import sys\n",
    "sys.path.append(\"..\")\n",
    "import pandas as pd\n",
    "import numpy as np\n",
    "from sss import make_random_shares\n",
    "from ass import getAdditiveShares\n",
    "from ass import reconstructSecret\n",
    "#np.random.seed(0)"
   ]
  },
  {
   "cell_type": "code",
   "execution_count": 148,
   "metadata": {},
   "outputs": [],
   "source": [
    "# 2 servers\n",
    "M=2\n",
    "# three datatable's size\n",
    "k=3\n",
    "N=10\n",
    "d1=np.random.choice(np.arange(1, 2*N), replace=False, size=(N, 1))\n",
    "d2=np.random.choice(np.arange(1, 2*N), replace=False, size=(N, 1))\n",
    "d3=np.random.choice(np.arange(1, 2*N), replace=False, size=(N, 1))"
   ]
  },
  {
   "cell_type": "code",
   "execution_count": 181,
   "metadata": {},
   "outputs": [],
   "source": [
    "# hashtable's size \n",
    "# generate the corresponding hash tables\n",
    "\n",
    "def generate_hash_table(d, N=10):\n",
    "    dic={}\n",
    "    for i in range(1, 2*N+1):\n",
    "        dic[i]=0\n",
    "    arr_d=d.tolist()\n",
    "    for a in arr_d:\n",
    "        dic[a[0]]+=1\n",
    "    return dic\n",
    "\n",
    "dic1=generate_hash_table(d1)\n",
    "dic2=generate_hash_table(d2)   \n",
    "dic3=generate_hash_table(d3)"
   ]
  },
  {
   "cell_type": "code",
   "execution_count": 150,
   "metadata": {},
   "outputs": [],
   "source": [
    "s_1=list(dic1.values())\n",
    "s_2=list(dic2.values())\n",
    "s_3=list(dic3.values())"
   ]
  },
  {
   "cell_type": "code",
   "execution_count": 151,
   "metadata": {},
   "outputs": [
    {
     "data": {
      "text/plain": [
       "([0, 0, 1, 1, 1, 1, 1, 1, 1, 0, 1, 0, 0, 1, 0, 0, 1, 0, 0, 0],\n",
       " [0, 1, 1, 0, 1, 1, 1, 0, 0, 1, 1, 0, 1, 1, 0, 0, 1, 0, 0, 0],\n",
       " [1, 1, 1, 0, 0, 1, 0, 0, 0, 1, 0, 1, 1, 1, 0, 1, 1, 0, 0, 0])"
      ]
     },
     "execution_count": 151,
     "metadata": {},
     "output_type": "execute_result"
    }
   ],
   "source": [
    "s_1, s_2, s_3"
   ]
  },
  {
   "cell_type": "code",
   "execution_count": 178,
   "metadata": {},
   "outputs": [],
   "source": [
    "# make the secret shares with 2 servers,  for 3 data owners correspondingly \n",
    "def generate_shares(S, M):\n",
    "    share1=[]\n",
    "    share2=[]\n",
    "    for s in S:\n",
    "        tmp=getAdditiveShares(s, M)\n",
    "        share1.append(tmp[0])\n",
    "        share2.append(tmp[1])\n",
    "    return share1, share2\n",
    "\n",
    "s_11, s_12= generate_shares(s_1, 2)\n",
    "s_21, s_22= generate_shares(s_2, 2)\n",
    "s_31, s_32= generate_shares(s_3, 2)\n",
    "\n",
    "def reconstruct(s11, s12):\n",
    "    return [reconstructSecret([s11[i], s12[i]]) for i in range(len(s11))]"
   ]
  },
  {
   "cell_type": "code",
   "execution_count": 168,
   "metadata": {},
   "outputs": [
    {
     "data": {
      "text/plain": [
       "(array([19902,  4205,  1946, 35896, 34810, 21673, 97409, 34405, 21959,\n",
       "        63608, 27349, 92193, 79493, 33600, 34543, 33429, 35679, 33183,\n",
       "          389, 62800]),\n",
       " array([80098, 95795, 98055, 64105, 65191, 78328,  2592, 65596, 78042,\n",
       "        36392, 72652,  7807, 20507, 66401, 65457, 66571, 64322, 66817,\n",
       "        99611, 37200]))"
      ]
     },
     "execution_count": 168,
     "metadata": {},
     "output_type": "execute_result"
    }
   ],
   "source": [
    "np.array(s_11), np.array(s_12)\n",
    "#s_21, s_22\n",
    "#s_31, s_32\n",
    "\n",
    "#=======test share=========\n",
    "#reconstruct(s_11, s_12)"
   ]
  },
  {
   "cell_type": "code",
   "execution_count": 154,
   "metadata": {},
   "outputs": [],
   "source": [
    "# server's side computation \n",
    "# \\sigma s_i1, i=1,2,3 \n",
    "\n",
    "def aggregate_share(s11, s21, s31):\n",
    "    return (np.array(s11)+np.array(s21)+np.array(s31)).tolist()"
   ]
  },
  {
   "cell_type": "code",
   "execution_count": 155,
   "metadata": {},
   "outputs": [],
   "source": [
    "# server's side aggregate all the shares\n",
    "agg_s1=aggregate_share(s_11, s_21, s_31)\n",
    "agg_s2=aggregate_share(s_12, s_22, s_32)"
   ]
  },
  {
   "cell_type": "code",
   "execution_count": 156,
   "metadata": {},
   "outputs": [],
   "source": [
    "'''\n",
    "to improve the security of scheme during the server--> database, encrypt the data shares with the cyclic group omitted\n",
    "'''\n",
    "\n",
    "# server execute the shares to protect the shares, optional operation in cyclic group.\n",
    "v_k=[k]*2*N\n",
    "v_s1, v_s2= generate_shares(v_k, 2)\n",
    "\n",
    "# for each server, to mask the aggregation value by the cyclic group\n",
    "# subgroup=[1,3,4,5,9], mod 11, g=5\n",
    "alpha=13\n",
    "ita=11\n",
    "g=5\n",
    "def Groupmulti(m):\n",
    "    ita_prime=ita*alpha\n",
    "    return pow(g, m)%ita_prime # modoul\n",
    "def G_vect(v_m):\n",
    "    return [Groupmulti(m) for m in v_m]\n",
    "\n",
    "# server1 and server 2 compute with v_s1    g^(agg_s1-v_s1)\n",
    "\n",
    "tmp_s1=(np.array(agg_s1)-np.array(v_s1)).tolist()\n",
    "tmp_s2=(np.array(agg_s2)-np.array(v_s2)).tolist()\n",
    "\n",
    "\n",
    "final_s1=G_vect(tmp_s1)\n",
    "final_s2=G_vect(tmp_s2)\n",
    "# reconstruct the shares with cyclic group and mod g^{\\sigma v_si} mod ita\n",
    "np.array(final_s1)*np.array(final_s2)%11"
   ]
  },
  {
   "cell_type": "code",
   "execution_count": 163,
   "metadata": {},
   "outputs": [],
   "source": [
    "#reconstruct(tmp_s1, tmp_s2)"
   ]
  },
  {
   "cell_type": "code",
   "execution_count": 161,
   "metadata": {},
   "outputs": [],
   "source": [
    "# each server compute on its shares, and send back to the \n",
    "tmp_1=[reconstructSecret([agg_s1[i]]) for i in range(len(agg_s1))]\n",
    "tmp_2=[reconstructSecret([agg_s2[i]]) for i in range(len(agg_s1))]"
   ]
  },
  {
   "cell_type": "code",
   "execution_count": 162,
   "metadata": {},
   "outputs": [
    {
     "data": {
      "text/plain": [
       "[1, 2, 3, 1, 2, 3, 2, 1, 1, 2, 2, 1, 2, 3, 0, 1, 3, 0, 0, 0]"
      ]
     },
     "execution_count": 162,
     "metadata": {},
     "output_type": "execute_result"
    }
   ],
   "source": [
    "# finally every data owner will compute a result \n",
    "reconstruct(tmp_1, tmp_2)"
   ]
  },
  {
   "cell_type": "code",
   "execution_count": 202,
   "metadata": {},
   "outputs": [],
   "source": [
    "# use to evaluate the data size, first dump into pickle, and convert to byte size \n",
    "import math\n",
    "def convert_size(size_bytes):\n",
    "    if size_bytes == 0:\n",
    "        return \"0B\"\n",
    "    size_name = (\"B\", \"KB\", \"MB\", \"GB\", \"TB\", \"PB\", \"EB\", \"ZB\", \"YB\")\n",
    "    i = int(math.floor(math.log(size_bytes, 1024)))\n",
    "    p = math.pow(1024, 2)\n",
    "    s = round(size_bytes / p, 2)\n",
    "    # use mb\n",
    "    return s\n",
    "    \n",
    "    #return \"%s %s\" % (s, size_name[i])\n",
    "\n",
    "# network_data = pickle.dumps(data)\n",
    "# len(network_data)"
   ]
  },
  {
   "cell_type": "code",
   "execution_count": 207,
   "metadata": {},
   "outputs": [],
   "source": [
    "# time complexity and space complexity \n",
    "import time\n",
    "import pickle \n",
    "\n",
    "\n",
    "# to output the size of secret shares and running time (does not consider the communication times)\n",
    "# for the shares memory, we use the secure shares as the memory size \n",
    "def main(N=10):\n",
    "    # original data generation of size N, from 2*N number \n",
    "    start=time.time()\n",
    "    plain=0\n",
    "    share=0\n",
    "    d1=np.random.choice(np.arange(1, 2*N), replace=False, size=(N, 1))\n",
    "    d2=np.random.choice(np.arange(1, 2*N), replace=False, size=(N, 1))\n",
    "    d3=np.random.choice(np.arange(1, 2*N), replace=False, size=(N, 1))\n",
    "    \n",
    "    plain+=len(pickle.dumps(d1))\n",
    "    plain+=len(pickle.dumps(d2))\n",
    "    plain+=len(pickle.dumps(d3))\n",
    "    \n",
    "    dic1=generate_hash_table(d1, N)\n",
    "    dic2=generate_hash_table(d2, N)   \n",
    "    dic3=generate_hash_table(d3, N)\n",
    "    \n",
    "    s_1=list(dic1.values())\n",
    "    s_2=list(dic2.values())\n",
    "    s_3=list(dic3.values())\n",
    "    \n",
    "    # generate shares and send to the server\n",
    "    s_11, s_12= generate_shares(s_1, 2)\n",
    "    s_21, s_22= generate_shares(s_2, 2)\n",
    "    s_31, s_32= generate_shares(s_3, 2)\n",
    "    \n",
    "    share+=len(pickle.dumps(s_11))\n",
    "    share+=len(pickle.dumps(s_12))\n",
    "    share+=len(pickle.dumps(s_21))\n",
    "    share+=len(pickle.dumps(s_22))\n",
    "    share+=len(pickle.dumps(s_31))\n",
    "    share+=len(pickle.dumps(s_32))\n",
    "    \n",
    "    \n",
    "    # the server construct the shares\n",
    "    agg_s1=aggregate_share(s_11, s_21, s_31)\n",
    "    agg_s2=aggregate_share(s_12, s_22, s_32)\n",
    "    \n",
    "    tmp_1=[reconstructSecret([agg_s1[i]]) for i in range(len(agg_s1))]\n",
    "    tmp_2=[reconstructSecret([agg_s2[i]]) for i in range(len(agg_s1))]\n",
    "    \n",
    "    reconstruct(tmp_1, tmp_2)\n",
    "    end=time.time()\n",
    "    \n",
    "    #return (end-start)\n",
    "    return convert_size(plain), convert_size(share)\n",
    "\n",
    "plain_res=[]\n",
    "share_res=[]\n",
    "\n",
    "for i in range(1, 7):\n",
    "    plain, share=main(pow(10, i))\n",
    "    plain_res.append(plain)\n",
    "    share_res.append(share)\n",
    "    "
   ]
  },
  {
   "cell_type": "code",
   "execution_count": 209,
   "metadata": {},
   "outputs": [
    {
     "data": {
      "text/plain": [
       "[0.0, 0.0, 0.01, 0.11, 1.14, 11.44]"
      ]
     },
     "execution_count": 209,
     "metadata": {},
     "output_type": "execute_result"
    }
   ],
   "source": [
    "plain_res"
   ]
  },
  {
   "cell_type": "code",
   "execution_count": 208,
   "metadata": {},
   "outputs": [
    {
     "data": {
      "text/plain": [
       "[0.0, 0.0, 0.04, 0.42, 4.22, 42.22]"
      ]
     },
     "execution_count": 208,
     "metadata": {},
     "output_type": "execute_result"
    }
   ],
   "source": [
    "share_res"
   ]
  },
  {
   "cell_type": "code",
   "execution_count": null,
   "metadata": {},
   "outputs": [],
   "source": [
    "res=[]\n",
    "for i in range(1, 7):\n",
    "    res.append(main(pow(10, i)))"
   ]
  },
  {
   "cell_type": "code",
   "execution_count": 212,
   "metadata": {},
   "outputs": [
    {
     "name": "stderr",
     "output_type": "stream",
     "text": [
      "<ipython-input-212-64d038f45c0a>:7: MatplotlibDeprecationWarning: The 'basex' parameter of __init__() has been renamed 'base' since Matplotlib 3.3; support for the old name will be dropped two minor releases later.\n",
      "  plt.xscale('log',basex=10)\n"
     ]
    },
    {
     "data": {
      "image/png": "[encoded data removed]",
      "text/plain": [
       "<Figure size 432x288 with 1 Axes>"
      ]
     },
     "metadata": {
      "needs_background": "light"
     },
     "output_type": "display_data"
    }
   ],
   "source": [
    "# plot the memory costs\n",
    "import matplotlib.pyplot as plt  \n",
    "\n",
    "x=[pow(10, i) for i in range(1, 7)]\n",
    "plt.plot(x,plain_res, label='origina')\n",
    "plt.plot(x,share_res, label='share')\n",
    "plt.xscale('log',basex=10)\n",
    "plt.xlabel('Size')\n",
    "plt.legend()\n",
    "plt.ylabel('Storage costs (MB)')\n",
    "plt.show()"
   ]
  },
  {
   "cell_type": "code",
   "execution_count": 191,
   "metadata": {},
   "outputs": [
    {
     "name": "stderr",
     "output_type": "stream",
     "text": [
      "<ipython-input-191-887b8a43983e>:6: MatplotlibDeprecationWarning: The 'basex' parameter of __init__() has been renamed 'base' since Matplotlib 3.3; support for the old name will be dropped two minor releases later.\n",
      "  plt.xscale('log',basex=10)\n"
     ]
    },
    {
     "data": {
      "image/png": "[encoded data removed]",
      "text/plain": [
       "<Figure size 432x288 with 1 Axes>"
      ]
     },
     "metadata": {
      "needs_background": "light"
     },
     "output_type": "display_data"
    }
   ],
   "source": [
    "# plot function \n",
    "import matplotlib.pyplot as plt  \n",
    "\n",
    "x=[pow(10, i) for i in range(1, 7)]\n",
    "plt.plot(x,res)\n",
    "plt.xscale('log',basex=10)\n",
    "plt.xlabel('Size')\n",
    "plt.ylabel('Computational Time (sec)')\n",
    "plt.show()"
   ]
  },
  {
   "cell_type": "code",
   "execution_count": 45,
   "metadata": {},
   "outputs": [],
   "source": [
    "# store the array into dataframe and read it\n",
    "df1=pd.DataFrame(d1, columns=['A'])\n",
    "\n",
    "df1.to_csv('df1.csv', index=False)\n",
    "df1_new= pd.read_csv ('df1.csv')"
   ]
  },
  {
   "cell_type": "code",
   "execution_count": 47,
   "metadata": {},
   "outputs": [],
   "source": []
  },
  {
   "cell_type": "code",
   "execution_count": 48,
   "metadata": {},
   "outputs": [
    {
     "data": {
      "text/html": [
       "<div>\n",
       "<style scoped>\n",
       "    .dataframe tbody tr th:only-of-type {\n",
       "        vertical-align: middle;\n",
       "    }\n",
       "\n",
       "    .dataframe tbody tr th {\n",
       "        vertical-align: top;\n",
       "    }\n",
       "\n",
       "    .dataframe thead th {\n",
       "        text-align: right;\n",
       "    }\n",
       "</style>\n",
       "<table border=\"1\" class=\"dataframe\">\n",
       "  <thead>\n",
       "    <tr style=\"text-align: right;\">\n",
       "      <th></th>\n",
       "      <th>A</th>\n",
       "    </tr>\n",
       "  </thead>\n",
       "  <tbody>\n",
       "    <tr>\n",
       "      <th>0</th>\n",
       "      <td>9</td>\n",
       "    </tr>\n",
       "    <tr>\n",
       "      <th>1</th>\n",
       "      <td>2</td>\n",
       "    </tr>\n",
       "    <tr>\n",
       "      <th>2</th>\n",
       "      <td>5</td>\n",
       "    </tr>\n",
       "    <tr>\n",
       "      <th>3</th>\n",
       "      <td>15</td>\n",
       "    </tr>\n",
       "    <tr>\n",
       "      <th>4</th>\n",
       "      <td>7</td>\n",
       "    </tr>\n",
       "    <tr>\n",
       "      <th>5</th>\n",
       "      <td>18</td>\n",
       "    </tr>\n",
       "    <tr>\n",
       "      <th>6</th>\n",
       "      <td>12</td>\n",
       "    </tr>\n",
       "    <tr>\n",
       "      <th>7</th>\n",
       "      <td>16</td>\n",
       "    </tr>\n",
       "    <tr>\n",
       "      <th>8</th>\n",
       "      <td>13</td>\n",
       "    </tr>\n",
       "    <tr>\n",
       "      <th>9</th>\n",
       "      <td>10</td>\n",
       "    </tr>\n",
       "  </tbody>\n",
       "</table>\n",
       "</div>"
      ],
      "text/plain": [
       "    A\n",
       "0   9\n",
       "1   2\n",
       "2   5\n",
       "3  15\n",
       "4   7\n",
       "5  18\n",
       "6  12\n",
       "7  16\n",
       "8  13\n",
       "9  10"
      ]
     },
     "execution_count": 48,
     "metadata": {},
     "output_type": "execute_result"
    }
   ],
   "source": [
    "df1_new"
   ]
  },
  {
   "cell_type": "code",
   "execution_count": 49,
   "metadata": {},
   "outputs": [],
   "source": [
    "# secret share building blocks function \n",
    "\n",
    "\"\"\"\n",
    "The following Python implementation of Shamir's Secret Sharing is\n",
    "released into the Public Domain under the terms of CC0 and OWFa:\n",
    "https://creativecommons.org/publicdomain/zero/1.0/\n",
    "http://www.openwebfoundation.org/legal/the-owf-1-0-agreements/owfa-1-0\n",
    "\n",
    "See the bottom few lines for usage. Tested on Python 2 and 3.\n",
    "\"\"\"\n",
    "\n",
    "from __future__ import division\n",
    "from __future__ import print_function\n",
    "\n",
    "import random\n",
    "import functools\n",
    "\n",
    "# 12th Mersenne Prime\n",
    "# (for this application we want a known prime number as close as\n",
    "# possible to our security level; e.g.  desired security level of 128\n",
    "# bits -- too large and all the ciphertext is large; too small and\n",
    "# security is compromised)\n",
    "_PRIME = 2 ** 127 - 1\n",
    "_PRIME = 1613\n",
    "#_PRIME = 13. \n",
    "# 13th Mersenne Prime is 2**521 - 1\n",
    "\n",
    "_RINT = functools.partial(random.SystemRandom().randint, 0)\n",
    "\n",
    "def _eval_at(poly, x, prime):\n",
    "    \"\"\"Evaluates polynomial (coefficient tuple) at x, used to generate a\n",
    "    shamir pool in make_random_shares below.\n",
    "    \"\"\"\n",
    "    accum = 0\n",
    "    for coeff in reversed(poly):\n",
    "        accum *= x\n",
    "        accum += coeff\n",
    "        accum %= prime\n",
    "    return accum\n",
    "\n",
    "def make_random_shares(secret, minimum, shares, prime=_PRIME):\n",
    "    \"\"\"\n",
    "    Generates a random shamir pool for a given secret, returns share points.\n",
    "    \"\"\"\n",
    "    if minimum > shares:\n",
    "        raise ValueError(\"Pool secret would be irrecoverable.\")\n",
    "\n",
    "    poly = [secret] + [_RINT(prime - 1) for i in range(minimum - 1)]\n",
    "\n",
    "    points = [(i, _eval_at(poly, i, prime))\n",
    "              for i in range(1, shares + 1)]\n",
    "    return points\n",
    "\n",
    "def _extended_gcd(a, b):\n",
    "    \"\"\"\n",
    "    Division in integers modulus p means finding the inverse of the\n",
    "    denominator modulo p and then multiplying the numerator by this\n",
    "    inverse (Note: inverse of A is B such that A*B % p == 1) this can\n",
    "    be computed via extended Euclidean algorithm\n",
    "    http://en.wikipedia.org/wiki/Modular_multiplicative_inverse#Computation\n",
    "    \"\"\"\n",
    "    x = 0\n",
    "    last_x = 1\n",
    "    y = 1\n",
    "    last_y = 0\n",
    "    while b != 0:\n",
    "        quot = a // b\n",
    "        a, b = b, a % b\n",
    "        x, last_x = last_x - quot * x, x\n",
    "        y, last_y = last_y - quot * y, y\n",
    "    return last_x, last_y\n",
    "\n",
    "def _divmod(num, den, p):\n",
    "    \"\"\"Compute num / den modulo prime p\n",
    "\n",
    "    To explain what this means, the return value will be such that\n",
    "    the following is true: den * _divmod(num, den, p) % p == num\n",
    "    \"\"\"\n",
    "    inv, _ = _extended_gcd(den, p)\n",
    "    return num * inv\n",
    "\n",
    "def _lagrange_interpolate(x, x_s, y_s, p):\n",
    "    \"\"\"\n",
    "    Find the y-value for the given x, given n (x, y) points;\n",
    "    k points will define a polynomial of up to kth order.\n",
    "    \"\"\"\n",
    "    k = len(x_s)\n",
    "    assert k == len(set(x_s)), \"points must be distinct\"\n",
    "    def PI(vals):  # upper-case PI -- product of inputs\n",
    "        accum = 1\n",
    "        for v in vals:\n",
    "            accum *= v\n",
    "        return accum\n",
    "    nums = []  # avoid inexact division\n",
    "    dens = []\n",
    "    for i in range(k):\n",
    "        others = list(x_s)\n",
    "        cur = others.pop(i)\n",
    "        nums.append(PI(x - o for o in others))\n",
    "        dens.append(PI(cur - o for o in others))\n",
    "    den = PI(dens)\n",
    "    num = sum([_divmod(nums[i] * den * y_s[i] % p, dens[i], p)\n",
    "               for i in range(k)])\n",
    "    return (_divmod(num, den, p) + p) % p\n",
    "\n",
    "def recover_secret(shares, prime=_PRIME):\n",
    "    \"\"\"\n",
    "    Recover the secret from share points\n",
    "    (x, y points on the polynomial).\n",
    "    \"\"\"\n",
    "    if len(shares) < 2:\n",
    "        raise ValueError(\"need at least two shares\")\n",
    "    x_s, y_s = zip(*shares)\n",
    "    return _lagrange_interpolate(0, x_s, y_s, prime)"
   ]
  },
  {
   "cell_type": "code",
   "execution_count": 50,
   "metadata": {},
   "outputs": [
    {
     "name": "stdout",
     "output_type": "stream",
     "text": [
      "Secret:                                                      0\n",
      "Shares:\n",
      "   (1, 1164)\n",
      "   (2, 715)\n",
      "Secret recovered from minimum subset of shares:              0\n",
      "Secret recovered from a different minimum subset of shares:  0\n"
     ]
    }
   ],
   "source": [
    "def main():\n",
    "    \"\"\"Main function\"\"\"\n",
    "    secret = 0\n",
    "    shares = make_random_shares(secret, minimum=2, shares=2)\n",
    "\n",
    "    print('Secret:                                                     ',\n",
    "          secret)\n",
    "    print('Shares:')\n",
    "    if shares:\n",
    "        for share in shares:\n",
    "            print('  ', share)\n",
    "\n",
    "    print('Secret recovered from minimum subset of shares:             ',\n",
    "          recover_secret(shares[:3]))\n",
    "    print('Secret recovered from a different minimum subset of shares: ',\n",
    "          recover_secret(shares[-3:]))\n",
    "\n",
    "if __name__ == '__main__':\n",
    "    main()"
   ]
  },
  {
   "cell_type": "code",
   "execution_count": 51,
   "metadata": {},
   "outputs": [],
   "source": []
  },
  {
   "cell_type": "code",
   "execution_count": 54,
   "metadata": {},
   "outputs": [
    {
     "data": {
      "text/plain": [
       "[(1, 1535), (2, 1453)]"
      ]
     },
     "execution_count": 54,
     "metadata": {},
     "output_type": "execute_result"
    }
   ],
   "source": [
    "make_random_shares(secret=4, minimum=2, shares=2)"
   ]
  },
  {
   "cell_type": "code",
   "execution_count": null,
   "metadata": {},
   "outputs": [],
   "source": []
  }
 ],
 "metadata": {
  "kernelspec": {
   "display_name": "Python 3",
   "language": "python",
   "name": "python3"
  },
  "language_info": {
   "codemirror_mode": {
    "name": "ipython",
    "version": 3
   },
   "file_extension": ".py",
   "mimetype": "text/x-python",
   "name": "python",
   "nbconvert_exporter": "python",
   "pygments_lexer": "ipython3",
   "version": "3.8.5"
  }
 },
 "nbformat": 4,
 "nbformat_minor": 4
}
